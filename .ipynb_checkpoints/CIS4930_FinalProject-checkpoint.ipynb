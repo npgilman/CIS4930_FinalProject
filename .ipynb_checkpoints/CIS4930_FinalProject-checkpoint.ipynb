{
 "cells": [
  {
   "cell_type": "code",
   "execution_count": null,
   "id": "7ecce561",
   "metadata": {},
   "outputs": [],
   "source": []
  },
  {
   "cell_type": "code",
   "execution_count": null,
   "id": "34409db0",
   "metadata": {},
   "outputs": [],
   "source": [
    "from mnist import MNIST\n",
    "\n",
    "mndata = MNIST('samples')\n",
    "\n",
    "images, labels = mndata.load_training()\n",
    "# or\n",
    "images, labels = mndata.load_testing()"
   ]
  },
  {
   "cell_type": "code",
   "execution_count": null,
   "id": "1afa182a",
   "metadata": {},
   "outputs": [],
   "source": [
    "print(mndata.display(images[0]))"
   ]
  },
  {
   "cell_type": "code",
   "execution_count": null,
   "id": "0098a3e0",
   "metadata": {},
   "outputs": [],
   "source": [
    "index = random.randrange(1, len(images))  # choose an index ;-)\n",
    "print(mndata.display(images[index]))"
   ]
  }
 ],
 "metadata": {
  "kernelspec": {
   "display_name": "Python 3 (ipykernel)",
   "language": "python",
   "name": "python3"
  },
  "language_info": {
   "codemirror_mode": {
    "name": "ipython",
    "version": 3
   },
   "file_extension": ".py",
   "mimetype": "text/x-python",
   "name": "python",
   "nbconvert_exporter": "python",
   "pygments_lexer": "ipython3",
   "version": "3.9.13"
  }
 },
 "nbformat": 4,
 "nbformat_minor": 5
}
